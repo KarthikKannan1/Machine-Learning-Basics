{
 "cells": [
  {
   "cell_type": "code",
   "execution_count": 1,
   "id": "75b34c79",
   "metadata": {},
   "outputs": [],
   "source": [
    "import pandas as pd\n",
    "import numpy as np"
   ]
  },
  {
   "cell_type": "code",
   "execution_count": 2,
   "id": "35b0e5df",
   "metadata": {},
   "outputs": [],
   "source": [
    "data = pd.read_csv(\"Student Study Hour V2.csv\")"
   ]
  },
  {
   "cell_type": "code",
   "execution_count": 3,
   "id": "04518536",
   "metadata": {},
   "outputs": [
    {
     "data": {
      "text/html": [
       "<div>\n",
       "<style scoped>\n",
       "    .dataframe tbody tr th:only-of-type {\n",
       "        vertical-align: middle;\n",
       "    }\n",
       "\n",
       "    .dataframe tbody tr th {\n",
       "        vertical-align: top;\n",
       "    }\n",
       "\n",
       "    .dataframe thead th {\n",
       "        text-align: right;\n",
       "    }\n",
       "</style>\n",
       "<table border=\"1\" class=\"dataframe\">\n",
       "  <thead>\n",
       "    <tr style=\"text-align: right;\">\n",
       "      <th></th>\n",
       "      <th>Hours</th>\n",
       "      <th>Scores</th>\n",
       "    </tr>\n",
       "  </thead>\n",
       "  <tbody>\n",
       "    <tr>\n",
       "      <th>0</th>\n",
       "      <td>2.5</td>\n",
       "      <td>21</td>\n",
       "    </tr>\n",
       "    <tr>\n",
       "      <th>1</th>\n",
       "      <td>5.1</td>\n",
       "      <td>47</td>\n",
       "    </tr>\n",
       "    <tr>\n",
       "      <th>2</th>\n",
       "      <td>3.2</td>\n",
       "      <td>27</td>\n",
       "    </tr>\n",
       "    <tr>\n",
       "      <th>3</th>\n",
       "      <td>8.5</td>\n",
       "      <td>75</td>\n",
       "    </tr>\n",
       "    <tr>\n",
       "      <th>4</th>\n",
       "      <td>3.5</td>\n",
       "      <td>30</td>\n",
       "    </tr>\n",
       "  </tbody>\n",
       "</table>\n",
       "</div>"
      ],
      "text/plain": [
       "   Hours  Scores\n",
       "0    2.5      21\n",
       "1    5.1      47\n",
       "2    3.2      27\n",
       "3    8.5      75\n",
       "4    3.5      30"
      ]
     },
     "execution_count": 3,
     "metadata": {},
     "output_type": "execute_result"
    }
   ],
   "source": [
    "data.head()"
   ]
  },
  {
   "cell_type": "code",
   "execution_count": 4,
   "id": "1d106784",
   "metadata": {},
   "outputs": [],
   "source": [
    "x = data.iloc[:,0].values.reshape(-1,1)\n",
    "y = data.iloc[:,1].values"
   ]
  },
  {
   "cell_type": "code",
   "execution_count": 5,
   "id": "f3404798",
   "metadata": {},
   "outputs": [],
   "source": [
    "from sklearn.model_selection import train_test_split\n",
    "x_train, x_test, y_train, y_test = train_test_split(x,y,test_size = 0.2, \n",
    "                                                    random_state = 999)"
   ]
  },
  {
   "cell_type": "code",
   "execution_count": 6,
   "id": "0d3ebdd1",
   "metadata": {},
   "outputs": [
    {
     "data": {
      "text/plain": [
       "array([[2.7],\n",
       "       [2.7],\n",
       "       [8.9],\n",
       "       [9.2],\n",
       "       [3.5],\n",
       "       [5.5],\n",
       "       [1.9],\n",
       "       [1.1],\n",
       "       [5.9],\n",
       "       [3.2],\n",
       "       [2.6],\n",
       "       [4.8],\n",
       "       [3.8],\n",
       "       [7.8],\n",
       "       [3.3],\n",
       "       [2.5],\n",
       "       [7.4],\n",
       "       [1.3],\n",
       "       [8.3],\n",
       "       [5.1],\n",
       "       [1.5],\n",
       "       [2.5]])"
      ]
     },
     "execution_count": 6,
     "metadata": {},
     "output_type": "execute_result"
    }
   ],
   "source": [
    "x_train"
   ]
  },
  {
   "cell_type": "code",
   "execution_count": 7,
   "id": "12e0753c",
   "metadata": {},
   "outputs": [
    {
     "data": {
      "text/plain": [
       "array([30, 25, 95, 88, 30, 60, 24, 17, 62, 27, 30, 54, 35, 86, 42, 30, 69,\n",
       "       19, 81, 47, 20, 21], dtype=int64)"
      ]
     },
     "execution_count": 7,
     "metadata": {},
     "output_type": "execute_result"
    }
   ],
   "source": [
    "y_train"
   ]
  },
  {
   "cell_type": "code",
   "execution_count": 8,
   "id": "26ebfd2f",
   "metadata": {},
   "outputs": [
    {
     "data": {
      "text/plain": [
       "array([[7.7],\n",
       "       [4.5],\n",
       "       [6.1],\n",
       "       [6.1],\n",
       "       [8.5],\n",
       "       [6.9]])"
      ]
     },
     "execution_count": 8,
     "metadata": {},
     "output_type": "execute_result"
    }
   ],
   "source": [
    "x_test"
   ]
  },
  {
   "cell_type": "code",
   "execution_count": 9,
   "id": "8a13a52f",
   "metadata": {},
   "outputs": [
    {
     "data": {
      "text/plain": [
       "array([85, 41, 63, 67, 75, 76], dtype=int64)"
      ]
     },
     "execution_count": 9,
     "metadata": {},
     "output_type": "execute_result"
    }
   ],
   "source": [
    "y_test"
   ]
  },
  {
   "cell_type": "code",
   "execution_count": 10,
   "id": "d878a04f",
   "metadata": {},
   "outputs": [
    {
     "data": {
      "text/plain": [
       "LinearRegression()"
      ]
     },
     "execution_count": 10,
     "metadata": {},
     "output_type": "execute_result"
    }
   ],
   "source": [
    "from sklearn.linear_model import LinearRegression\n",
    "lin = LinearRegression()\n",
    "lin.fit(x_train, y_train)"
   ]
  },
  {
   "cell_type": "code",
   "execution_count": 11,
   "id": "c1cce81a",
   "metadata": {},
   "outputs": [
    {
     "data": {
      "text/plain": [
       "(22, 1)"
      ]
     },
     "execution_count": 11,
     "metadata": {},
     "output_type": "execute_result"
    }
   ],
   "source": [
    "x_train.shape"
   ]
  },
  {
   "cell_type": "code",
   "execution_count": 12,
   "id": "55aef36f",
   "metadata": {},
   "outputs": [],
   "source": [
    "y_predict = lin.predict(x_test)"
   ]
  },
  {
   "cell_type": "code",
   "execution_count": 13,
   "id": "82b39647",
   "metadata": {},
   "outputs": [
    {
     "name": "stdout",
     "output_type": "stream",
     "text": [
      "42.72975731176427\n"
     ]
    }
   ],
   "source": [
    "from sklearn.metrics import mean_squared_error\n",
    "print(mean_squared_error(y_test, y_predict))"
   ]
  },
  {
   "cell_type": "code",
   "execution_count": 14,
   "id": "d4be66be",
   "metadata": {},
   "outputs": [],
   "source": [
    "# Feature Scaling using Standard Scaler\n",
    "\n",
    "from sklearn.preprocessing import StandardScaler\n",
    "\n",
    "scaler_x = StandardScaler()\n",
    "scaler_y = StandardScaler()\n",
    "\n",
    "x_sc = scaler_x.fit_transform(x.reshape(-1,1))\n",
    "y_sc = scaler_y.fit_transform(y.reshape(-1,1))"
   ]
  },
  {
   "cell_type": "code",
   "execution_count": 15,
   "id": "558e2b9a",
   "metadata": {},
   "outputs": [
    {
     "data": {
      "text/plain": [
       "array([[-0.93850226],\n",
       "       [ 0.10779122],\n",
       "       [-0.65680786],\n",
       "       [ 1.47602117],\n",
       "       [-0.53608169],\n",
       "       [-1.34092283],\n",
       "       [ 1.75771557],\n",
       "       [ 0.26875945],\n",
       "       [ 1.39553705],\n",
       "       [-0.85801815],\n",
       "       [ 1.15408471],\n",
       "       [ 0.42972768],\n",
       "       [-0.13366112],\n",
       "       [-0.6165658 ],\n",
       "       [-1.50189106],\n",
       "       [ 1.6369894 ],\n",
       "       [-0.93850226],\n",
       "       [-1.1799546 ],\n",
       "       [ 0.5102118 ],\n",
       "       [ 1.03335854],\n",
       "       [-0.85801815],\n",
       "       [-0.01293495],\n",
       "       [-0.41535552],\n",
       "       [ 0.83214825],\n",
       "       [ 1.19432677],\n",
       "       [-1.42140695],\n",
       "       [-0.8982602 ],\n",
       "       [ 0.5102118 ]])"
      ]
     },
     "execution_count": 15,
     "metadata": {},
     "output_type": "execute_result"
    }
   ],
   "source": [
    "x_sc"
   ]
  },
  {
   "cell_type": "code",
   "execution_count": 16,
   "id": "75537205",
   "metadata": {},
   "outputs": [
    {
     "data": {
      "text/plain": [
       "array([[-1.17787985],\n",
       "       [-0.12054751],\n",
       "       [-0.93388008],\n",
       "       [ 1.01811809],\n",
       "       [-0.81188019],\n",
       "       [-1.21854648],\n",
       "       [ 1.54678426],\n",
       "       [ 0.40811867],\n",
       "       [ 1.26211786],\n",
       "       [-1.01521333],\n",
       "       [ 1.42478438],\n",
       "       [ 0.48945192],\n",
       "       [-0.36454728],\n",
       "       [-0.32388065],\n",
       "       [-1.34054636],\n",
       "       [ 1.83145066],\n",
       "       [-0.81188019],\n",
       "       [-1.05587996],\n",
       "       [ 0.69278506],\n",
       "       [ 0.77411832],\n",
       "       [-0.81188019],\n",
       "       [ 0.16411889],\n",
       "       [-0.60854705],\n",
       "       [ 1.05878472],\n",
       "       [ 1.46545101],\n",
       "       [-1.25921311],\n",
       "       [-0.81188019],\n",
       "       [ 0.53011855]])"
      ]
     },
     "execution_count": 16,
     "metadata": {},
     "output_type": "execute_result"
    }
   ],
   "source": [
    "y_sc"
   ]
  },
  {
   "cell_type": "code",
   "execution_count": 17,
   "id": "0557eeb7",
   "metadata": {},
   "outputs": [
    {
     "data": {
      "text/plain": [
       "LinearRegression()"
      ]
     },
     "execution_count": 17,
     "metadata": {},
     "output_type": "execute_result"
    }
   ],
   "source": [
    "lin = LinearRegression()\n",
    "\n",
    "x_train, x_test, y_train, y_test = train_test_split(x_sc,\n",
    "                                                    y_sc,\n",
    "                                                    test_size = 0.2, \n",
    "                                                    random_state = 999)\n",
    "\n",
    "lin.fit(x_train, y_train)"
   ]
  },
  {
   "cell_type": "code",
   "execution_count": 18,
   "id": "338706cb",
   "metadata": {},
   "outputs": [
    {
     "name": "stdout",
     "output_type": "stream",
     "text": [
      "0.07066539061445574\n"
     ]
    }
   ],
   "source": [
    "print(mean_squared_error(lin.predict(x_test),y_test))"
   ]
  },
  {
   "cell_type": "code",
   "execution_count": 19,
   "id": "69ad789a",
   "metadata": {},
   "outputs": [
    {
     "data": {
      "text/html": [
       "<div>\n",
       "<style scoped>\n",
       "    .dataframe tbody tr th:only-of-type {\n",
       "        vertical-align: middle;\n",
       "    }\n",
       "\n",
       "    .dataframe tbody tr th {\n",
       "        vertical-align: top;\n",
       "    }\n",
       "\n",
       "    .dataframe thead th {\n",
       "        text-align: right;\n",
       "    }\n",
       "</style>\n",
       "<table border=\"1\" class=\"dataframe\">\n",
       "  <thead>\n",
       "    <tr style=\"text-align: right;\">\n",
       "      <th></th>\n",
       "      <th>Hours</th>\n",
       "      <th>Scores</th>\n",
       "    </tr>\n",
       "  </thead>\n",
       "  <tbody>\n",
       "    <tr>\n",
       "      <th>0</th>\n",
       "      <td>2.5</td>\n",
       "      <td>21</td>\n",
       "    </tr>\n",
       "    <tr>\n",
       "      <th>1</th>\n",
       "      <td>5.1</td>\n",
       "      <td>47</td>\n",
       "    </tr>\n",
       "    <tr>\n",
       "      <th>2</th>\n",
       "      <td>3.2</td>\n",
       "      <td>27</td>\n",
       "    </tr>\n",
       "    <tr>\n",
       "      <th>3</th>\n",
       "      <td>8.5</td>\n",
       "      <td>75</td>\n",
       "    </tr>\n",
       "    <tr>\n",
       "      <th>4</th>\n",
       "      <td>3.5</td>\n",
       "      <td>30</td>\n",
       "    </tr>\n",
       "  </tbody>\n",
       "</table>\n",
       "</div>"
      ],
      "text/plain": [
       "   Hours  Scores\n",
       "0    2.5      21\n",
       "1    5.1      47\n",
       "2    3.2      27\n",
       "3    8.5      75\n",
       "4    3.5      30"
      ]
     },
     "execution_count": 19,
     "metadata": {},
     "output_type": "execute_result"
    }
   ],
   "source": [
    "import matplotlib.pyplot as plt\n",
    "import plotly.express as px\n",
    "\n",
    "data.head()"
   ]
  },
  {
   "cell_type": "code",
   "execution_count": 20,
   "id": "ff4d2a17",
   "metadata": {},
   "outputs": [
    {
     "data": {
      "text/plain": [
       "Text(0.5, 1.0, 'LINEAR REGRESSION')"
      ]
     },
     "execution_count": 20,
     "metadata": {},
     "output_type": "execute_result"
    },
    {
     "data": {
      "image/png": "[encoded data removed]",
      "text/plain": [
       "<Figure size 432x288 with 1 Axes>"
      ]
     },
     "metadata": {
      "needs_background": "light"
     },
     "output_type": "display_data"
    }
   ],
   "source": [
    "plt.scatter(x_sc, \n",
    "            y_sc, \n",
    "            color = 'red')\n",
    "plt.plot(x_sc,\n",
    "         lin.predict(x_sc),\n",
    "         color = 'black')\n",
    "plt.title('LINEAR REGRESSION')"
   ]
  },
  {
   "cell_type": "code",
   "execution_count": 21,
   "id": "7e726a12",
   "metadata": {},
   "outputs": [],
   "source": [
    "# Feature Scaling using MinMax Scaler\n",
    "\n",
    "from sklearn.preprocessing import MinMaxScaler\n",
    "\n",
    "minmax_x = MinMaxScaler()\n",
    "minmax_y = MinMaxScaler()\n",
    "\n",
    "x_min = scaler_x.fit_transform(x.reshape(-1,1))\n",
    "y_min = scaler_y.fit_transform(y.reshape(-1,1))"
   ]
  },
  {
   "cell_type": "code",
   "execution_count": 22,
   "id": "7abdbcab",
   "metadata": {},
   "outputs": [
    {
     "data": {
      "text/plain": [
       "array([[-0.93850226],\n",
       "       [ 0.10779122],\n",
       "       [-0.65680786],\n",
       "       [ 1.47602117],\n",
       "       [-0.53608169],\n",
       "       [-1.34092283],\n",
       "       [ 1.75771557],\n",
       "       [ 0.26875945],\n",
       "       [ 1.39553705],\n",
       "       [-0.85801815],\n",
       "       [ 1.15408471],\n",
       "       [ 0.42972768],\n",
       "       [-0.13366112],\n",
       "       [-0.6165658 ],\n",
       "       [-1.50189106],\n",
       "       [ 1.6369894 ],\n",
       "       [-0.93850226],\n",
       "       [-1.1799546 ],\n",
       "       [ 0.5102118 ],\n",
       "       [ 1.03335854],\n",
       "       [-0.85801815],\n",
       "       [-0.01293495],\n",
       "       [-0.41535552],\n",
       "       [ 0.83214825],\n",
       "       [ 1.19432677],\n",
       "       [-1.42140695],\n",
       "       [-0.8982602 ],\n",
       "       [ 0.5102118 ]])"
      ]
     },
     "execution_count": 22,
     "metadata": {},
     "output_type": "execute_result"
    }
   ],
   "source": [
    "x_min"
   ]
  },
  {
   "cell_type": "code",
   "execution_count": 23,
   "id": "0f5a067d",
   "metadata": {},
   "outputs": [
    {
     "data": {
      "text/plain": [
       "array([[-1.17787985],\n",
       "       [-0.12054751],\n",
       "       [-0.93388008],\n",
       "       [ 1.01811809],\n",
       "       [-0.81188019],\n",
       "       [-1.21854648],\n",
       "       [ 1.54678426],\n",
       "       [ 0.40811867],\n",
       "       [ 1.26211786],\n",
       "       [-1.01521333],\n",
       "       [ 1.42478438],\n",
       "       [ 0.48945192],\n",
       "       [-0.36454728],\n",
       "       [-0.32388065],\n",
       "       [-1.34054636],\n",
       "       [ 1.83145066],\n",
       "       [-0.81188019],\n",
       "       [-1.05587996],\n",
       "       [ 0.69278506],\n",
       "       [ 0.77411832],\n",
       "       [-0.81188019],\n",
       "       [ 0.16411889],\n",
       "       [-0.60854705],\n",
       "       [ 1.05878472],\n",
       "       [ 1.46545101],\n",
       "       [-1.25921311],\n",
       "       [-0.81188019],\n",
       "       [ 0.53011855]])"
      ]
     },
     "execution_count": 23,
     "metadata": {},
     "output_type": "execute_result"
    }
   ],
   "source": [
    "y_min"
   ]
  },
  {
   "cell_type": "code",
   "execution_count": 24,
   "id": "34ed93db",
   "metadata": {},
   "outputs": [],
   "source": [
    "x_train, x_test, y_train, y_test = train_test_split(x_min, y_min) "
   ]
  },
  {
   "cell_type": "code",
   "execution_count": 25,
   "id": "af6cdeb6",
   "metadata": {},
   "outputs": [
    {
     "data": {
      "text/plain": [
       "LinearRegression()"
      ]
     },
     "execution_count": 25,
     "metadata": {},
     "output_type": "execute_result"
    }
   ],
   "source": [
    "lin_min = LinearRegression()\n",
    "lin_min.fit(x_train,y_train)"
   ]
  },
  {
   "cell_type": "code",
   "execution_count": 26,
   "id": "4c6ca477",
   "metadata": {},
   "outputs": [
    {
     "name": "stdout",
     "output_type": "stream",
     "text": [
      "0.041067975676489676\n"
     ]
    }
   ],
   "source": [
    "print(mean_squared_error(lin_min.predict(x_test), y_test))"
   ]
  },
  {
   "cell_type": "code",
   "execution_count": 28,
   "id": "e974870b",
   "metadata": {},
   "outputs": [
    {
     "data": {
      "text/plain": [
       "Text(0.5, 1.0, 'LINEAR REGRESSION')"
      ]
     },
     "execution_count": 28,
     "metadata": {},
     "output_type": "execute_result"
    },
    {
     "data": {
      "image/png": "[encoded data removed]",
      "text/plain": [
       "<Figure size 432x288 with 1 Axes>"
      ]
     },
     "metadata": {
      "needs_background": "light"
     },
     "output_type": "display_data"
    }
   ],
   "source": [
    "plt.scatter(x_min,\n",
    "            y_min, \n",
    "            color = 'green')\n",
    "plt.plot(x_min,\n",
    "         lin_min.predict(x_min),\n",
    "         color = 'black')\n",
    "plt.title(\"LINEAR REGRESSION\")"
   ]
  }
 ],
 "metadata": {
  "kernelspec": {
   "display_name": "Python 3",
   "language": "python",
   "name": "python3"
  },
  "language_info": {
   "codemirror_mode": {
    "name": "ipython",
    "version": 3
   },
   "file_extension": ".py",
   "mimetype": "text/x-python",
   "name": "python",
   "nbconvert_exporter": "python",
   "pygments_lexer": "ipython3",
   "version": "3.9.1"
  }
 },
 "nbformat": 4,
 "nbformat_minor": 5
}
